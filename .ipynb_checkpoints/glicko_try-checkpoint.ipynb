{
 "cells": [
  {
   "cell_type": "markdown",
   "id": "adc092b3-ce0b-4d87-9f71-457837ed1041",
   "metadata": {},
   "source": [
    "# Setup"
   ]
  },
  {
   "cell_type": "code",
   "execution_count": 19,
   "id": "824528d5-a010-4f2f-98e7-16cc9c32f488",
   "metadata": {},
   "outputs": [],
   "source": [
    "import pandas as pd\n",
    "import os\n",
    "import numpy as np\n",
    "from scipy import stats\n",
    "from collections import Counter, defaultdict\n",
    "from statistics import mean\n",
    "import random\n",
    "import seaborn as sns\n",
    "import matplotlib.pyplot as plt\n",
    "import time\n",
    "from datetime import timedelta\n",
    "import pickle\n",
    "import json\n",
    "import timeit\n",
    "import warnings\n",
    "import itertools\n",
    "import gc"
   ]
  },
  {
   "cell_type": "code",
   "execution_count": 7,
   "id": "2a395b4c-80e1-4171-a7cc-534eb670aaf3",
   "metadata": {},
   "outputs": [],
   "source": [
    "sns.set_theme(style=\"ticks\", color_codes=True)\n",
    "warnings.simplefilter(action='ignore', category=FutureWarning)"
   ]
  },
  {
   "cell_type": "code",
   "execution_count": 8,
   "id": "79d296bf-769a-4d97-92e1-980991e2cca4",
   "metadata": {},
   "outputs": [
    {
     "name": "stderr",
     "output_type": "stream",
     "text": [
      "Cloning into 'pyglicko2'...\n"
     ]
    }
   ],
   "source": [
    "# Use glicko-2 implementation by Ryan Kirkman\n",
    "!git clone https://github.com/ryankirkman/pyglicko2"
   ]
  },
  {
   "cell_type": "code",
   "execution_count": 10,
   "id": "3ae193f0-b76a-4d7a-9354-43bbbc57192a",
   "metadata": {},
   "outputs": [
    {
     "name": "stdout",
     "output_type": "stream",
     "text": [
      "C:\\Users\\igisb\\Documents\\GitHub\\pairwise_ranking\\pyglicko2\n"
     ]
    }
   ],
   "source": [
    "cd pyglicko2"
   ]
  },
  {
   "cell_type": "code",
   "execution_count": 11,
   "id": "f708fc8f-a7b7-4af5-ad13-3c492be07aca",
   "metadata": {},
   "outputs": [],
   "source": [
    "import glicko2"
   ]
  },
  {
   "cell_type": "markdown",
   "id": "910cdded-a8bb-4db2-b30e-53f6688e38bd",
   "metadata": {},
   "source": [
    "### Example "
   ]
  },
  {
   "cell_type": "code",
   "execution_count": 17,
   "id": "645fcca5-9af4-4e8c-97c8-6411894daf0c",
   "metadata": {},
   "outputs": [],
   "source": [
    "# Test to see if everything's working (code from pyglicko2 repository)\n",
    "\n",
    "def exampleCase():\n",
    "    # Create a player called Ryan\n",
    "    Ryan = glicko2.Player()\n",
    "    print(\"Old Rating Deviation: \" + str(Ryan.rd))\n",
    "    print(\"Old Volatility: \" + str(Ryan.vol))\n",
    "    Ryan.update_player([x for x in [1400, 1550, 1700]],\n",
    "        [x for x in [30, 100, 300]], [1, 0, 0])\n",
    "    print(\"New Rating: \" + str(Ryan.rating))\n",
    "    print(\"New Rating Deviation: \" + str(Ryan.rd))\n",
    "    print(\"New Volatility: \" + str(Ryan.vol))\n",
    "\n",
    "def timingExample(runs = 10000):\n",
    "    timeTaken = timeit.Timer(\"Ryan = glicko2.Player(); \\\n",
    "                             Ryan.update_player([x \\\n",
    "    for x in [1400, 1550, 1700]], \\\n",
    "    [x for x in [30, 100, 300]], [1, 0, 0])\", \\\n",
    "        \"import glicko2\").repeat(1, 10000)\n",
    "    print(\"\\nThe time taken to perform \" + str(runs), \"separate calculations (in seconds) was:\", round(timeTaken[0], 4))"
   ]
  },
  {
   "cell_type": "code",
   "execution_count": 18,
   "id": "e5c966c2-5921-4c4c-8706-808360a90813",
   "metadata": {},
   "outputs": [
    {
     "name": "stdout",
     "output_type": "stream",
     "text": [
      "Old Rating Deviation: 350.0\n",
      "Old Volatility: 0.06\n",
      "New Rating: 1441.5327915010964\n",
      "New Rating Deviation: 193.22832145690708\n",
      "New Volatility: 0.05999342346059785\n",
      "\n",
      "The time taken to perform 10000 separate calculations (in seconds) was: 0.4432\n"
     ]
    }
   ],
   "source": [
    "exampleCase()\n",
    "timingExample()"
   ]
  },
  {
   "cell_type": "markdown",
   "id": "c513fffe-100e-422c-aac8-95e3cd2536f5",
   "metadata": {},
   "source": [
    "### Sample players"
   ]
  },
  {
   "cell_type": "code",
   "execution_count": 20,
   "id": "aeeaa619-08f9-4a91-9c57-25550d38f8c9",
   "metadata": {},
   "outputs": [],
   "source": [
    "# Assume we have 1000 chess players and want to determine their ranking\n",
    "# We'll need to have them play matches against each other and each match will result in a w/d/l\n",
    "# Players' ranking score will change after each tournament\n",
    "# I'm interested in pairwise text comparisons - so the players will be texts, and their match will be a research participant reading both texts and deciding which text is more difficult (i.e., which text wins)\n",
    "\n",
    "# Set variables: number of players (=number of texts), and expected distribution of player strength\n",
    "# s => distribution (mean: 1500, stdev: 300, n: number of players)\n",
    "text_n = 1000\n",
    "s = np.random.normal(1500, 300, text_n)\n",
    "\n",
    "# Sample datapoints\n",
    "# Tuple consisting of (text id, true rating, and glicko object)\n",
    "objs = [(ti, tr, glicko2.Player()) for ti, tr in zip(range(text_n), s)]"
   ]
  },
  {
   "cell_type": "code",
   "execution_count": 25,
   "id": "fb20f0dd-6ab2-48c8-9cac-46398531a4fe",
   "metadata": {},
   "outputs": [],
   "source": [
    "def glicko_test(text_n, s, total_participants, comparison_per_participant, stratnum):\n",
    "    \"\"\"\n",
    "    \n",
    "    \"\"\"\n",
    "    objs = [(ti, tr, glicko2.Player()) for ti, tr in zip(range(text_n), s)]\n",
    "\n",
    "    # Define comparison number and epochs (the number of times the entire data set will be used)\n",
    "    total_comparisons = total_participants * comparison_per_participant\n",
    "    epochs = int(total_comparisons / text_n)\n",
    "    print(f'Total comparison num: {total_comparisons}')\n",
    "    print(f'Stratnum: {stratnum}')\n",
    "\n",
    "    # Measure time\n",
    "    time_start = time.time()\n",
    "    for _ in range(epochs):\n",
    "        # Stratification (sort by current rating and divide into different groups of set number (stratnum))\n",
    "        objs_sort = sorted(objs, key=lambda x: x[2].rating)\n",
    "        objs_sort = list(np.split(np.array(objs_sort), stratnum))\n",
    "        # Iterate through divisions\n",
    "        for play in objs_sort:\n",
    "            random.shuffle(play)\n",
    "            while len(play) != 0:\n",
    "                player1 = play[0]\n",
    "                player2 = play[1]\n",
    "                # If player 1 (i.e., text 1) wins\n",
    "                if player1[1] > player2[1]:\n",
    "                    player1 = player1[2]\n",
    "                    player2 = player2[2]\n",
    "                    saverate = player1.rating\n",
    "                    savedev = player1.rd\n",
    "                    player1.update_player([player2.rating], [player2.rd], [1])\n",
    "                    player2.update_player([saverate], [savedev], [0])\n",
    "                # If player 2 wins\n",
    "                else:\n",
    "                    player1 = player1[2]\n",
    "                    player2 = player2[2]\n",
    "                    saverate = player2.rating\n",
    "                    savedev = player2.rd\n",
    "                    player2.update_player([player1.rating], [player1.rd], [1])\n",
    "                    player1.update_player([saverate], [savedev], [0])\n",
    "                play = play[2:]\n",
    "    time_end = time.time()\n",
    "\n",
    "    mae = mean([abs(w[1] - w[2].rating) for w in objs])\n",
    "    print(f'Mean absolute error: {mae}')\n",
    "    print(f\"Elapsed time: {round(time_end - time_start, 5)} seconds\")\n",
    "    sns.histplot([w[2].rating for w in objs], kde=True);\n",
    "    plt.show()\n",
    "\n",
    "    return objs"
   ]
  },
  {
   "cell_type": "code",
   "execution_count": 26,
   "id": "087b9368-4cd2-48a6-af52-0357304ddf03",
   "metadata": {},
   "outputs": [
    {
     "name": "stdout",
     "output_type": "stream",
     "text": [
      "Total comparison num: 100000\n",
      "Stratnum: 20\n",
      "Mean absolute error: 42.50609826926509\n",
      "Elapsed time: 3.20042 seconds\n"
     ]
    },
    {
     "data": {
      "image/png": "[encoded data removed]",
      "text/plain": [
       "<Figure size 640x480 with 1 Axes>"
      ]
     },
     "metadata": {},
     "output_type": "display_data"
    }
   ],
   "source": [
    "# Try with 20 divisions\n",
    "glickres20 = glicko_test(1000, s, 1000, 100, 20)"
   ]
  },
  {
   "cell_type": "code",
   "execution_count": null,
   "id": "9820513c-9d50-4534-b5a8-8a9b85e75fa8",
   "metadata": {},
   "outputs": [],
   "source": []
  }
 ],
 "metadata": {
  "kernelspec": {
   "display_name": "Python 3 (ipykernel)",
   "language": "python",
   "name": "python3"
  },
  "language_info": {
   "codemirror_mode": {
    "name": "ipython",
    "version": 3
   },
   "file_extension": ".py",
   "mimetype": "text/x-python",
   "name": "python",
   "nbconvert_exporter": "python",
   "pygments_lexer": "ipython3",
   "version": "3.8.16"
  }
 },
 "nbformat": 4,
 "nbformat_minor": 5
}
